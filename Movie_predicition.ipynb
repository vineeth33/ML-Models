{
  "nbformat": 4,
  "nbformat_minor": 0,
  "metadata": {
    "colab": {
      "provenance": [],
      "authorship_tag": "ABX9TyPnZhh2hFvvEvJ2VwxCMvqm",
      "include_colab_link": true
    },
    "kernelspec": {
      "name": "python3",
      "display_name": "Python 3"
    },
    "language_info": {
      "name": "python"
    }
  },
  "cells": [
    {
      "cell_type": "markdown",
      "metadata": {
        "id": "view-in-github",
        "colab_type": "text"
      },
      "source": [
        "<a href=\"https://colab.research.google.com/github/vineeth33/ML-Models/blob/main/Movie_predicition.ipynb\" target=\"_parent\"><img src=\"https://colab.research.google.com/assets/colab-badge.svg\" alt=\"Open In Colab\"/></a>"
      ]
    },
    {
      "cell_type": "code",
      "execution_count": null,
      "metadata": {
        "colab": {
          "base_uri": "https://localhost:8080/"
        },
        "id": "9y6EpOSqaalg",
        "outputId": "7b8ca9dc-e8d5-4cae-e256-1a7ecfd023f0"
      },
      "outputs": [
        {
          "output_type": "stream",
          "name": "stdout",
          "text": [
            "Mounted at /content/drive\n"
          ]
        }
      ],
      "source": [
        "from google.colab import drive\n",
        "drive.mount('/content/drive')"
      ]
    },
    {
      "cell_type": "code",
      "source": [
        "import pandas as pd\n",
        "\n",
        "# Try reading the file with a different encoding\n",
        "movie_data = pd.read_csv(\"/content/drive/MyDrive/intern_work/movie_prediction/IMDb.csv\", encoding='ISO-8859-1')\n",
        "\n",
        "# Display the first few rows of the dataset to understand its structure\n",
        "movie_data.head(), movie_data.info()\n"
      ],
      "metadata": {
        "colab": {
          "base_uri": "https://localhost:8080/"
        },
        "id": "OMtl38o3c-13",
        "outputId": "56e849ef-f0a8-46ae-bf73-29045bc50010"
      },
      "execution_count": null,
      "outputs": [
        {
          "output_type": "stream",
          "name": "stdout",
          "text": [
            "<class 'pandas.core.frame.DataFrame'>\n",
            "RangeIndex: 15509 entries, 0 to 15508\n",
            "Data columns (total 10 columns):\n",
            " #   Column    Non-Null Count  Dtype  \n",
            "---  ------    --------------  -----  \n",
            " 0   Name      15509 non-null  object \n",
            " 1   Year      14981 non-null  object \n",
            " 2   Duration  7240 non-null   object \n",
            " 3   Genre     13632 non-null  object \n",
            " 4   Rating    7919 non-null   float64\n",
            " 5   Votes     7920 non-null   object \n",
            " 6   Director  14984 non-null  object \n",
            " 7   Actor 1   13892 non-null  object \n",
            " 8   Actor 2   13125 non-null  object \n",
            " 9   Actor 3   12365 non-null  object \n",
            "dtypes: float64(1), object(9)\n",
            "memory usage: 1.2+ MB\n"
          ]
        },
        {
          "output_type": "execute_result",
          "data": {
            "text/plain": [
              "(                                 Name    Year Duration            Genre  \\\n",
              " 0                                         NaN      NaN            Drama   \n",
              " 1  #Gadhvi (He thought he was Gandhi)  (2019)  109 min            Drama   \n",
              " 2                         #Homecoming  (2021)   90 min   Drama, Musical   \n",
              " 3                             #Yaaram  (2019)  110 min  Comedy, Romance   \n",
              " 4                   ...And Once Again  (2010)  105 min            Drama   \n",
              " \n",
              "    Rating Votes            Director       Actor 1             Actor 2  \\\n",
              " 0     NaN   NaN       J.S. Randhawa      Manmauji              Birbal   \n",
              " 1     7.0     8       Gaurav Bakshi  Rasika Dugal      Vivek Ghamande   \n",
              " 2     NaN   NaN  Soumyajit Majumdar  Sayani Gupta   Plabita Borthakur   \n",
              " 3     4.4    35          Ovais Khan       Prateik          Ishita Raj   \n",
              " 4     NaN   NaN        Amol Palekar  Rajat Kapoor  Rituparna Sengupta   \n",
              " \n",
              "            Actor 3  \n",
              " 0  Rajendra Bhatia  \n",
              " 1    Arvind Jangid  \n",
              " 2       Roy Angana  \n",
              " 3  Siddhant Kapoor  \n",
              " 4      Antara Mali  ,\n",
              " None)"
            ]
          },
          "metadata": {},
          "execution_count": 2
        }
      ]
    },
    {
      "cell_type": "code",
      "source": [
        "# Handle missing values\n",
        "# For simplicity, let's fill missing values in the 'Rating' column with the mean rating\n",
        "movie_data['Rating'].fillna(movie_data['Rating'].mean(), inplace=True)\n",
        "\n",
        "# Fill missing values in 'Year' with the mode\n",
        "movie_data['Year'].fillna(movie_data['Year'].mode()[0], inplace=True)\n",
        "\n",
        "# Fill missing values in 'Duration' with the mean duration\n",
        "movie_data['Duration'].fillna(movie_data['Duration'].mode()[0], inplace=True)\n",
        "\n",
        "# Fill missing values in 'Genre', 'Director', 'Actor 1', 'Actor 2', 'Actor 3' with 'Unknown'\n",
        "movie_data['Genre'].fillna('Unknown', inplace=True)\n",
        "movie_data['Director'].fillna('Unknown', inplace=True)\n",
        "movie_data['Actor 1'].fillna('Unknown', inplace=True)\n",
        "movie_data['Actor 2'].fillna('Unknown', inplace=True)\n",
        "movie_data['Actor 3'].fillna('Unknown', inplace=True)\n",
        "\n",
        "# Convert 'Year' to numeric\n",
        "movie_data['Year'] = movie_data['Year'].str.extract('(\\d+)').astype(int)\n",
        "\n",
        "# Convert 'Duration' to numeric (assuming the format is 'X min')\n",
        "movie_data['Duration'] = movie_data['Duration'].str.extract('(\\d+)').astype(int)\n",
        "\n",
        "# Display the cleaned data to verify\n",
        "movie_data.head(), movie_data.info()\n"
      ],
      "metadata": {
        "colab": {
          "base_uri": "https://localhost:8080/"
        },
        "id": "zuC4aXGlekas",
        "outputId": "985ade1c-6c93-4d75-d2e1-a73d4bb5aaf0"
      },
      "execution_count": null,
      "outputs": [
        {
          "output_type": "stream",
          "name": "stdout",
          "text": [
            "<class 'pandas.core.frame.DataFrame'>\n",
            "RangeIndex: 15509 entries, 0 to 15508\n",
            "Data columns (total 10 columns):\n",
            " #   Column    Non-Null Count  Dtype  \n",
            "---  ------    --------------  -----  \n",
            " 0   Name      15509 non-null  object \n",
            " 1   Year      15509 non-null  int64  \n",
            " 2   Duration  15509 non-null  int64  \n",
            " 3   Genre     15509 non-null  object \n",
            " 4   Rating    15509 non-null  float64\n",
            " 5   Votes     7920 non-null   object \n",
            " 6   Director  15509 non-null  object \n",
            " 7   Actor 1   15509 non-null  object \n",
            " 8   Actor 2   15509 non-null  object \n",
            " 9   Actor 3   15509 non-null  object \n",
            "dtypes: float64(1), int64(2), object(7)\n",
            "memory usage: 1.2+ MB\n"
          ]
        },
        {
          "output_type": "execute_result",
          "data": {
            "text/plain": [
              "(                                 Name  Year  Duration            Genre  \\\n",
              " 0                                      2019       120            Drama   \n",
              " 1  #Gadhvi (He thought he was Gandhi)  2019       109            Drama   \n",
              " 2                         #Homecoming  2021        90   Drama, Musical   \n",
              " 3                             #Yaaram  2019       110  Comedy, Romance   \n",
              " 4                   ...And Once Again  2010       105            Drama   \n",
              " \n",
              "      Rating Votes            Director       Actor 1             Actor 2  \\\n",
              " 0  5.841621   NaN       J.S. Randhawa      Manmauji              Birbal   \n",
              " 1  7.000000     8       Gaurav Bakshi  Rasika Dugal      Vivek Ghamande   \n",
              " 2  5.841621   NaN  Soumyajit Majumdar  Sayani Gupta   Plabita Borthakur   \n",
              " 3  4.400000    35          Ovais Khan       Prateik          Ishita Raj   \n",
              " 4  5.841621   NaN        Amol Palekar  Rajat Kapoor  Rituparna Sengupta   \n",
              " \n",
              "            Actor 3  \n",
              " 0  Rajendra Bhatia  \n",
              " 1    Arvind Jangid  \n",
              " 2       Roy Angana  \n",
              " 3  Siddhant Kapoor  \n",
              " 4      Antara Mali  ,\n",
              " None)"
            ]
          },
          "metadata": {},
          "execution_count": 3
        }
      ]
    },
    {
      "cell_type": "code",
      "source": [
        "movie_data_encoded = pd.get_dummies(movie_data, columns=['Genre', 'Director', 'Actor 1', 'Actor 2', 'Actor 3'], drop_first=True)\n"
      ],
      "metadata": {
        "id": "1QKh0M9nfI4H"
      },
      "execution_count": null,
      "outputs": []
    },
    {
      "cell_type": "code",
      "source": [
        "movie_data_encoded.drop(columns=['Name', 'Votes'], inplace=True)\n",
        "\n",
        "from sklearn.model_selection import train_test_split\n",
        "\n",
        "X = movie_data_encoded.drop(columns=['Rating'])\n",
        "y = movie_data_encoded['Rating']\n",
        "\n",
        "X_train, X_test, y_train, y_test = train_test_split(X, y, test_size=0.2, random_state=42)\n"
      ],
      "metadata": {
        "id": "Jb1vne1qgfvR"
      },
      "execution_count": null,
      "outputs": []
    },
    {
      "cell_type": "code",
      "source": [
        "from sklearn.ensemble import RandomForestRegressor\n",
        "from sklearn.metrics import mean_squared_error, r2_score\n",
        "\n",
        "model = RandomForestRegressor(n_estimators=100, random_state=42)\n",
        "model.fit(X_train, y_train)\n",
        "\n",
        "y_pred = model.predict(X_test)\n",
        "print('MSE:', mean_squared_error(y_test, y_pred))\n",
        "print('R2 Score:', r2_score(y_test, y_pred))\n"
      ],
      "metadata": {
        "colab": {
          "base_uri": "https://localhost:8080/"
        },
        "id": "5k3hxgtHkIm3",
        "outputId": "fb5af1aa-fcf9-4e6c-df7a-b56572060932"
      },
      "execution_count": null,
      "outputs": [
        {
          "output_type": "stream",
          "name": "stdout",
          "text": [
            "MSE: 0.7991035741784406\n",
            "R2 Score: 0.16974300256512098\n"
          ]
        }
      ]
    }
  ]
}